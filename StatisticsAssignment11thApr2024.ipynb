{
  "nbformat": 4,
  "nbformat_minor": 0,
  "metadata": {
    "colab": {
      "provenance": []
    },
    "kernelspec": {
      "name": "python3",
      "display_name": "Python 3"
    },
    "language_info": {
      "name": "python"
    }
  },
  "cells": [
    {
      "cell_type": "code",
      "execution_count": 1,
      "metadata": {
        "id": "LsrOwYzTg-6S"
      },
      "outputs": [],
      "source": [
        "import numpy as np"
      ]
    },
    {
      "cell_type": "code",
      "source": [
        "# Q1 Generate a list of 100 integers containing values between 90 to 130 and store it in the variable `int_list`.\n",
        "\n",
        "int_list = np.random.randint(90,130,100)\n",
        "int_list\n"
      ],
      "metadata": {
        "colab": {
          "base_uri": "https://localhost:8080/"
        },
        "id": "TK4eAHDtqLId",
        "outputId": "692f95c5-97e3-4cb1-d8b6-fd1513e8ab01"
      },
      "execution_count": 2,
      "outputs": [
        {
          "output_type": "execute_result",
          "data": {
            "text/plain": [
              "array([ 90, 104, 129,  94,  93, 128, 121,  94, 124, 103, 116,  95, 122,\n",
              "       105, 111, 123,  91, 124, 112,  98,  99, 104, 101, 124, 126, 123,\n",
              "       103, 129, 129, 111, 105,  93, 102, 111, 106, 122, 116, 116, 122,\n",
              "       126, 125, 116, 101, 108,  95, 122, 116, 101, 107, 128, 129, 100,\n",
              "        90, 114, 123, 103,  98, 115, 127,  96, 124, 127,  91,  93, 109,\n",
              "       121, 108, 118, 114, 128, 102,  97, 129, 109, 117, 126, 128, 106,\n",
              "       119, 128, 104,  91, 109, 127, 115, 104, 127, 103,  96,  97, 124,\n",
              "       103,  99, 107, 105,  98, 102, 113, 116, 109])"
            ]
          },
          "metadata": {},
          "execution_count": 2
        }
      ]
    },
    {
      "cell_type": "code",
      "source": [
        "len(int_list)"
      ],
      "metadata": {
        "colab": {
          "base_uri": "https://localhost:8080/"
        },
        "id": "bQMpkB3lqnMF",
        "outputId": "c7bba174-6630-43ab-c3f7-d534538118b8"
      },
      "execution_count": 3,
      "outputs": [
        {
          "output_type": "execute_result",
          "data": {
            "text/plain": [
              "100"
            ]
          },
          "metadata": {},
          "execution_count": 3
        }
      ]
    },
    {
      "cell_type": "code",
      "source": [
        "# After generating the list, find the following:"
      ],
      "metadata": {
        "id": "45kYUEBHqWgP"
      },
      "execution_count": 4,
      "outputs": []
    },
    {
      "cell_type": "code",
      "source": [
        "#  (i) Write a Python function to calculate the mean of a given list of numbers.\n",
        "def mean_v1(num_list):\n",
        "  temp = 0;\n",
        "  for i in num_list:\n",
        "    temp = temp+i;\n",
        "  return temp/len(num_list)\n",
        "\n",
        "def mean_v2(num_list):\n",
        "  temp = 0;\n",
        "  temp = sum(num_list);\n",
        "  return temp/len(num_list)\n",
        "\n",
        "print(mean_v2(int_list))\n",
        "\n",
        "# Create a function to find the median of a list of numbers.\n",
        "\n",
        "def median_v1(num_list):\n",
        "  if len(num_list)==0:\n",
        "    return 0\n",
        "  num_list.sort()\n",
        "  n = len(num_list)\n",
        "  if n % 2 == 0:\n",
        "    # If the list has an even number of elements, average the middle two\n",
        "    middle_left = num_list[n // 2 - 1]\n",
        "    middle_right = num_list[n // 2]\n",
        "    median = (middle_left + middle_right) / 2\n",
        "  else:\n",
        "    # If the list has an odd number of elements, take the middle element\n",
        "    median = num_list[n // 2]\n",
        "\n",
        "  return median\n",
        "\n",
        "print(median_v1(int_list))\n",
        "\n",
        "def median_v2(num_list):\n",
        "  return np.median(num_list) # using inbuild numpy function\n",
        "\n",
        "\n",
        "print(median_v2(int_list))\n",
        "\n"
      ],
      "metadata": {
        "id": "28Op8gc6quRd",
        "colab": {
          "base_uri": "https://localhost:8080/"
        },
        "outputId": "f4aa81d6-85c4-43e4-c770-3a49c12d2770"
      },
      "execution_count": 5,
      "outputs": [
        {
          "output_type": "stream",
          "name": "stdout",
          "text": [
            "111.02\n",
            "110.0\n",
            "110.0\n"
          ]
        }
      ]
    },
    {
      "cell_type": "code",
      "source": [
        "# Q1.(ii) Develop a program to compute the mode of a list of integers.\n",
        "\n",
        "def find_mode_v1(numbers):\n",
        "    \"\"\"\n",
        "    Find the mode (most common number) in a list of integers\n",
        "    without using built-in functions.\n",
        "    Args:\n",
        "    numbers (list of int): The list of integers.\n",
        "    Returns:\n",
        "    mode (int): The mode of the numbers.\n",
        "    \"\"\"\n",
        "    # Create a dictionary to store the frequency of each number\n",
        "    frequency = {}\n",
        "\n",
        "    # Count the frequency of each number\n",
        "    for num in numbers:\n",
        "        if num in frequency:\n",
        "            frequency[num] += 1\n",
        "        else:\n",
        "            frequency[num] = 1\n",
        "\n",
        "    # print(\"frequency\",frequency)\n",
        "\n",
        "\n",
        "    # Find the number with the highest frequency\n",
        "    max_freq = 0\n",
        "    mode = None\n",
        "    for num, freq in frequency.items():\n",
        "        if freq > max_freq:\n",
        "            max_freq = freq\n",
        "            mode = num\n",
        "\n",
        "    return mode\n",
        "\n",
        "\n",
        "print(find_mode_v1(int_list))\n",
        "\n",
        "import statistics\n",
        "\n",
        "def find_mode_v2(numbers):\n",
        "  return statistics.mode(numbers)\n",
        "\n",
        "print(find_mode_v2(int_list))\n"
      ],
      "metadata": {
        "colab": {
          "base_uri": "https://localhost:8080/"
        },
        "id": "Te5RaG6FrT76",
        "outputId": "6ac4f696-f19d-4045-9e4d-63bb87e1f65e"
      },
      "execution_count": 6,
      "outputs": [
        {
          "output_type": "stream",
          "name": "stdout",
          "text": [
            "116\n",
            "116\n"
          ]
        }
      ]
    },
    {
      "cell_type": "code",
      "source": [
        "# Q1 . (iii) Implement a function to calculate the weighted mean of a list of values and their corresponding weights.\n",
        "\n",
        "def weighted_mean(values, weights):\n",
        "    \"\"\"\n",
        "    Calculate the weighted mean of a list of values.\n",
        "    Args:\n",
        "    - values (list of float/int): The list of values.\n",
        "    - weights (list of float/int): The list of corresponding weights.\n",
        "    Returns:\n",
        "    - weighted_mean (float): The weighted mean of the values.\n",
        "    \"\"\"\n",
        "    if len(values) != len(weights):\n",
        "        raise ValueError(\"The number of values must be equal to the number of weights\")\n",
        "\n",
        "    weighted_sum = 0\n",
        "    total_weight = 0\n",
        "    for value, weight in zip(values, weights):\n",
        "        weighted_sum += value * weight\n",
        "        total_weight += weight\n",
        "\n",
        "    weighted_mean = weighted_sum / total_weight\n",
        "    return weighted_mean\n",
        "\n",
        "# int_list = [1,2,3,4]\n",
        "values = int_list\n",
        "\n",
        "# consedring index as the weight of the values starting aa 1,2,3,4,.....100\n",
        "weights = [index for index in range(1,len(int_list)+1)]\n",
        "# print(weights)\n",
        "weighted_mean_result = weighted_mean(values, weights)\n",
        "print(\"Weighted Mean:\", round(weighted_mean_result,3))\n",
        "\n",
        "#  using numpy\n",
        "def weighted_mean_v2(values, weights):\n",
        "  return np.average(values, weights=weights)\n",
        "\n",
        "\n",
        "weighted_mean_result = weighted_mean_v2(values, weights)\n",
        "print(\"Weighted Mean:\", round(weighted_mean_result,3))\n"
      ],
      "metadata": {
        "colab": {
          "base_uri": "https://localhost:8080/"
        },
        "id": "SWk5m5-49051",
        "outputId": "4c208bc5-c4b6-4543-cdc3-fe2f4481089f"
      },
      "execution_count": 7,
      "outputs": [
        {
          "output_type": "stream",
          "name": "stdout",
          "text": [
            "Weighted Mean: 117.87\n",
            "Weighted Mean: 117.87\n"
          ]
        }
      ]
    },
    {
      "cell_type": "code",
      "source": [
        "#Q1  (iv) Write a Python function to find the geometric mean of a list of positive numbers.\n",
        "\n",
        "import math\n",
        "\n",
        "def geometric_mean_v1(data):\n",
        "  # Calculate the natural logarithm of each number\n",
        "  logarithms = [math.log(x) for x in data]\n",
        "\n",
        "  # Calculate the mean of the logarithms\n",
        "  mean_of_logarithms = sum(logarithms) / len(logarithms)\n",
        "\n",
        "  # Exponentiate the result to obtain the geometric mean\n",
        "  geometric_mean = math.exp(mean_of_logarithms)\n",
        "\n",
        "  return geometric_mean\n",
        "\n",
        "print(\"Geometric Mean without inbuild function:\",geometric_mean_v1(int_list))\n",
        "\n",
        "\n",
        "# inbuild\n",
        "from scipy.stats import gmean\n",
        "\n",
        "# Sample data\n",
        "# data = [2, 4, 8, 16]\n",
        "\n",
        "# Calculate the geometric mean\n",
        "geometric_mean = gmean(int_list)\n",
        "\n",
        "print(\"Geometric Mean with inbuild function:\", geometric_mean)"
      ],
      "metadata": {
        "id": "tACGWF_Y_IP9",
        "colab": {
          "base_uri": "https://localhost:8080/"
        },
        "outputId": "c664777b-711f-46ae-a7a4-7f1f2e54b773"
      },
      "execution_count": 8,
      "outputs": [
        {
          "output_type": "stream",
          "name": "stdout",
          "text": [
            "Geometric Mean without inbuild function: 110.36282943461643\n",
            "Geometric Mean with inbuild function: 110.36282943461643\n"
          ]
        }
      ]
    },
    {
      "cell_type": "code",
      "source": [
        "#Q1  (v) Create a program to calculate the harmonic mean of a list of values.\n",
        "\n",
        "def harmonic_mean_v1(data):\n",
        "  # Calculate the reciprocals of the numbers\n",
        "  reciprocals = [1 / x for x in data]\n",
        "\n",
        "  # Calculate the arithmetic mean of the reciprocals\n",
        "  arithmetic_mean_of_reciprocals = sum(reciprocals) / len(reciprocals)\n",
        "\n",
        "  # Take the reciprocal of the arithmetic mean of the reciprocals to get the harmonic mean\n",
        "  harmonic_mean = 1 / arithmetic_mean_of_reciprocals\n",
        "\n",
        "  # take the reciprocal again\n",
        "  return harmonic_mean\n",
        "\n",
        "print(\"Harmonic Mean without inbuild function:\", round(harmonic_mean_v1(int_list),3))\n",
        "\n",
        "\n",
        "from scipy.stats import hmean\n",
        "\n",
        "# Calculate the harmonic mean\n",
        "harmonic_mean = hmean(int_list)\n",
        "\n",
        "print(\"Harmonic Mean with inbuild function::\", round(harmonic_mean,3))\n"
      ],
      "metadata": {
        "colab": {
          "base_uri": "https://localhost:8080/"
        },
        "id": "3qSW8Z_lzmpZ",
        "outputId": "16fc2345-a042-4dc1-d8ea-ebac199803a6"
      },
      "execution_count": 9,
      "outputs": [
        {
          "output_type": "stream",
          "name": "stdout",
          "text": [
            "Harmonic Mean without inbuild function: 109.703\n",
            "Harmonic Mean with inbuild function:: 109.703\n"
          ]
        }
      ]
    },
    {
      "cell_type": "code",
      "source": [
        "#Q1  (vi) Build a function to determine the midrange of a list of numbers (average of the minimum and maximum).\n",
        "\n",
        "def midrange_v1(data):\n",
        "  return (min(data)+max(data))/2\n",
        "\n",
        "\n",
        "print(\"Midrange without inbuild function::\", round(midrange_v1([2,4,6,8]),3))\n"
      ],
      "metadata": {
        "colab": {
          "base_uri": "https://localhost:8080/"
        },
        "id": "cesfDK0r3lLI",
        "outputId": "6a07f3cb-9d9e-4c46-981c-2fb7e3569bab"
      },
      "execution_count": 10,
      "outputs": [
        {
          "output_type": "stream",
          "name": "stdout",
          "text": [
            "Midrange without inbuild function:: 5.0\n"
          ]
        }
      ]
    },
    {
      "cell_type": "code",
      "source": [
        "# Q1 (vii) Implement a Python program to find the trimmed mean of a list, excluding a certain percentage of\n",
        "# outliers.\n",
        "\n",
        "\n",
        "def trimmed_mean_v1(data,trim_percentage):\n",
        "  # Calculate the number of elements to trim from each end\n",
        "  trim_count = int(len(data) * trim_percentage)\n",
        "  # Sort the data\n",
        "  sorted_data = sorted(data)\n",
        "  # Trim the data by removing elements from each end\n",
        "  trimmed_data = sorted_data[trim_count:-trim_count]\n",
        "  # Calculate the trimmed mean\n",
        "  trimmed_mean = mean_v1(trimmed_data)\n",
        "\n",
        "  return trimmed_mean\n",
        "\n",
        "\n",
        "print(\"Trimmed Mean without inbuid function:\", trimmed_mean_v1(int_list,0.1))\n",
        "\n",
        "from scipy.stats import trim_mean\n",
        "\n",
        "# Sample data\n",
        "data = int_list\n",
        "\n",
        "# Define the percentage to trim from each end (e.g., 10%)\n",
        "trim_percentage = 0.1\n",
        "\n",
        "# Calculate the trimmed mean\n",
        "trimmed_mean = trim_mean(data, proportiontocut=trim_percentage)\n",
        "\n",
        "print(\"Trimmed Mean with inbuid function:\", trimmed_mean)\n"
      ],
      "metadata": {
        "colab": {
          "base_uri": "https://localhost:8080/"
        },
        "id": "CfSoPKIN6gZt",
        "outputId": "a977d3cb-69c7-4f30-baba-c4cd8f70c261"
      },
      "execution_count": 11,
      "outputs": [
        {
          "output_type": "stream",
          "name": "stdout",
          "text": [
            "Trimmed Mean without inbuid function: 111.2125\n",
            "Trimmed Mean with inbuid function: 111.2125\n"
          ]
        }
      ]
    },
    {
      "cell_type": "markdown",
      "source": [
        "-----------------------"
      ],
      "metadata": {
        "id": "Q6ohxSs0F8ZO"
      }
    },
    {
      "cell_type": "code",
      "source": [
        "#  2. Generate a list of 500 integers containing values between 200 to 300 and store it in the variable `int_list2`.\n",
        "# After generating the list, find the following:\n",
        "int_list2 = np.random.randint(200,300,500)\n"
      ],
      "metadata": {
        "id": "75Zq2OO4F-L7"
      },
      "execution_count": 12,
      "outputs": []
    },
    {
      "cell_type": "code",
      "source": [
        "len(int_list2)"
      ],
      "metadata": {
        "colab": {
          "base_uri": "https://localhost:8080/"
        },
        "id": "3NN7ebXSGQ9U",
        "outputId": "1c5a4ce5-8c1c-4cb1-b6cd-63fbc4116377"
      },
      "execution_count": 13,
      "outputs": [
        {
          "output_type": "execute_result",
          "data": {
            "text/plain": [
              "500"
            ]
          },
          "metadata": {},
          "execution_count": 13
        }
      ]
    },
    {
      "cell_type": "code",
      "source": [
        "# Q2 (i) Compare the given list of visualization for the given data:\n",
        "\n",
        "#     1. Frequency & Gaussian distribution\n",
        "\n",
        "#     2. Frequency smoothened KDE plot\n",
        "\n",
        "#     3. Gaussian distribution & smoothened KDE plot"
      ],
      "metadata": {
        "id": "t3M0d9CMGX5L"
      },
      "execution_count": 14,
      "outputs": []
    },
    {
      "cell_type": "code",
      "source": [
        "# Q2 (i) 1. Frequency & Gaussian distribution\n",
        "\n",
        "import numpy as np\n",
        "import matplotlib.pyplot as plt\n",
        "from scipy.stats import norm\n",
        "\n",
        "data = int_list2\n",
        "\n",
        "# Calculate mean and standard deviation\n",
        "mean = np.mean(data)\n",
        "std_dev = np.std(data)\n",
        "\n",
        "# Create a histogram (frequency plot)\n",
        "plt.figure(figsize=(10, 5))\n",
        "plt.hist(data, bins=500, edgecolor='black', alpha=0.7)\n",
        "plt.xlabel('Value')\n",
        "plt.ylabel('Frequency')\n",
        "plt.title('Frequency Plot')\n",
        "plt.grid(True)\n",
        "plt.show()\n",
        "\n",
        "# Create a Gaussian distribution plot\n",
        "plt.figure(figsize=(10, 5))\n",
        "plt.hist(data, bins=500, density=True, edgecolor='black', alpha=0.7)\n",
        "xmin, xmax = plt.xlim()\n",
        "x = np.linspace(xmin, xmax, 500)\n",
        "p = norm.pdf(x, mean, std_dev)\n",
        "plt.plot(x, p, 'k', linewidth=2)\n",
        "plt.xlabel('Value')\n",
        "plt.ylabel('Probability Density')\n",
        "plt.title('Gaussian Distribution Plot')\n",
        "plt.grid(True)\n",
        "plt.show()\n"
      ],
      "metadata": {
        "colab": {
          "base_uri": "https://localhost:8080/",
          "height": 957
        },
        "id": "b3zXZKFrG0Sa",
        "outputId": "c10ec180-7ee1-4809-ec7a-d9d982d4fcd8"
      },
      "execution_count": 15,
      "outputs": [
        {
          "output_type": "display_data",
          "data": {
            "text/plain": [
              "<Figure size 1000x500 with 1 Axes>"
            ],
            "image/png": "[encoded data removed]"
          },
          "metadata": {}
        },
        {
          "output_type": "display_data",
          "data": {
            "text/plain": [
              "<Figure size 1000x500 with 1 Axes>"
            ],
            "image/png": "[encoded data removed]"
          },
          "metadata": {}
        }
      ]
    },
    {
      "cell_type": "code",
      "source": [
        "#Q2 (i) 2. Frequency smoothened KDE plotc\n",
        "import seaborn as sns\n",
        "import matplotlib.pyplot as plt\n",
        "\n",
        "# Your list of numbers\n",
        "data = int_list2\n",
        "# Plotting the KDE plot\n",
        "sns.kdeplot(data)\n",
        "plt.title(\"Frequency Smoothened KDE Plot\")\n",
        "plt.xlabel(\"Value\")\n",
        "plt.ylabel(\"Density\")\n",
        "plt.show()"
      ],
      "metadata": {
        "id": "Do3ydYyIIaZi",
        "colab": {
          "base_uri": "https://localhost:8080/",
          "height": 472
        },
        "outputId": "1ea032dc-03fb-4970-cd22-fd00cf6325da"
      },
      "execution_count": 16,
      "outputs": [
        {
          "output_type": "display_data",
          "data": {
            "text/plain": [
              "<Figure size 640x480 with 1 Axes>"
            ],
            "image/png": "[encoded data removed]"
          },
          "metadata": {}
        }
      ]
    },
    {
      "cell_type": "code",
      "source": [
        "# Q2 (i) 3. Gaussian distribution & smoothened KDE plot\n",
        "\n",
        "import numpy as np\n",
        "import seaborn as sns\n",
        "import matplotlib.pyplot as plt\n",
        "\n",
        "np.random.seed(0)\n",
        "\n",
        "data = np.random.normal(loc=0, scale=1, size=1000)\n",
        "\n",
        "# Plotting the Gaussian distribution\n",
        "sns.histplot(data, kde=False, color='blue', label='Histogram', bins=30, stat='density')\n",
        "x = np.linspace(-4, 4, 1000)\n",
        "gaussian = (1/(np.sqrt(2*np.pi)*1)) * np.exp(-0.5 * ((x - 0) / 1)**2)  # PDF of a normal distribution\n",
        "plt.plot(x, gaussian, color='red', label='Gaussian Distribution')\n",
        "plt.title('Gaussian Distribution')\n",
        "plt.xlabel('Value')\n",
        "plt.ylabel('Density')\n",
        "plt.legend()\n",
        "plt.show()\n",
        "\n",
        "# Plotting the KDE plot\n",
        "sns.kdeplot(data, color='green', label='KDE Plot', bw_adjust=0.5)\n",
        "plt.title('KDE Plot')\n",
        "plt.xlabel('Value')\n",
        "plt.ylabel('Density')\n",
        "plt.legend()\n",
        "plt.show()\n"
      ],
      "metadata": {
        "colab": {
          "base_uri": "https://localhost:8080/",
          "height": 927
        },
        "id": "ciTMHAcszSGR",
        "outputId": "f3509e96-e0bf-4be3-97ef-eadb6170d4b1"
      },
      "execution_count": 17,
      "outputs": [
        {
          "output_type": "display_data",
          "data": {
            "text/plain": [
              "<Figure size 640x480 with 1 Axes>"
            ],
            "image/png": "[encoded data removed]"
          },
          "metadata": {}
        },
        {
          "output_type": "display_data",
          "data": {
            "text/plain": [
              "<Figure size 640x480 with 1 Axes>"
            ],
            "image/png": "[encoded data removed]"
          },
          "metadata": {}
        }
      ]
    },
    {
      "cell_type": "code",
      "source": [
        "type(int_list2)"
      ],
      "metadata": {
        "colab": {
          "base_uri": "https://localhost:8080/"
        },
        "id": "_OhoDngIASbs",
        "outputId": "b9531f0e-93ac-4499-f51f-41cdc00206e9"
      },
      "execution_count": 18,
      "outputs": [
        {
          "output_type": "execute_result",
          "data": {
            "text/plain": [
              "numpy.ndarray"
            ]
          },
          "metadata": {},
          "execution_count": 18
        }
      ]
    },
    {
      "cell_type": "code",
      "source": [
        "#  Q2 (ii) Write a Python function to calculate the range of a given list of numbers.\n",
        "\n",
        "def calculate_range(numbers):\n",
        "  if not numbers:\n",
        "      return None\n",
        "  return max(numbers) - min(numbers)\n",
        "\n",
        "numbers =  list(int_list2)\n",
        "result = calculate_range(numbers)\n",
        "print(\"Range of the list:\", result)"
      ],
      "metadata": {
        "colab": {
          "base_uri": "https://localhost:8080/"
        },
        "id": "9hFZdKYn5nSu",
        "outputId": "370e31a4-35e8-417a-d210-1c9ffb6cbbaa"
      },
      "execution_count": 19,
      "outputs": [
        {
          "output_type": "stream",
          "name": "stdout",
          "text": [
            "Range of the list: 99\n"
          ]
        }
      ]
    },
    {
      "cell_type": "code",
      "source": [
        "#  Q2 (iii) Create a program to find the variance and standard deviation of a list of numbers\n",
        "\n",
        "def calculate_variance(num_list):\n",
        "  mean = sum(num_list)/len(num_list)\n",
        "  Sumof_dataPoint_mean_difference_square = 0\n",
        "\n",
        "  for x in num_list:\n",
        "    Sumof_dataPoint_mean_difference_square += (x-mean)**2\n",
        "\n",
        "  variance = Sumof_dataPoint_mean_difference_square/len(num_list)\n",
        "\n",
        "  return round(variance,6)\n",
        "\n",
        "# std_deviation is the squre root of variance\n",
        "def calculate_std_deviation(num_list):\n",
        "  variance = calculate_variance(num_list)\n",
        "  std_deviation = math.sqrt(variance)\n",
        "  return (std_deviation)\n",
        "\n",
        "print(calculate_variance(int_list2))\n",
        "print(np.var(int_list2)) # for cross cheking using numpy\n",
        "\n",
        "\n",
        "print(calculate_std_deviation(int_list2))\n",
        "print(np.std(int_list2)) # for cross cheking using numpy\n"
      ],
      "metadata": {
        "colab": {
          "base_uri": "https://localhost:8080/"
        },
        "id": "IevtF7C5ABtm",
        "outputId": "e764fb69-1d20-4a02-cb29-0b0b77fb5d66"
      },
      "execution_count": 20,
      "outputs": [
        {
          "output_type": "stream",
          "name": "stdout",
          "text": [
            "832.443276\n",
            "832.443276\n",
            "28.852093095649057\n",
            "28.852093095649057\n"
          ]
        }
      ]
    },
    {
      "cell_type": "code",
      "source": [
        "#  Q2 (iv) Implement a function to compute the interquartile range (IQR) of a list of values.\n",
        "\n",
        "def calculate_quartiles(data):\n",
        "    data.sort()\n",
        "    n = len(data)\n",
        "\n",
        "    # Calculate positions of quartiles\n",
        "    q1_position = (n + 1) / 4\n",
        "    q3_position = (3 * (n + 1)) / 4\n",
        "\n",
        "    # Calculate quartiles\n",
        "    if n % 2 == 0:\n",
        "        q1 = (data[int(q1_position) - 1] + data[int(q1_position)]) / 2\n",
        "        q3 = (data[int(q3_position) - 1] + data[int(q3_position)]) / 2\n",
        "    else:\n",
        "        q1 = data[int(q1_position) - 1]\n",
        "        q3 = data[int(q3_position) - 1]\n",
        "\n",
        "    return q1, q3\n",
        "\n",
        "def calculate_iqr(q1, q3):\n",
        "    return q3 - q1\n",
        "\n",
        "# Example usage:\n",
        "data = [10, 30, 20, 40, 50, 60, 70, 80, 90]\n",
        "\n",
        "q1, q3 = calculate_quartiles(data)\n",
        "iqr = calculate_iqr(q1, q3)\n",
        "\n",
        "print(\"First quartile (Q1):\", q1)\n",
        "print(\"Third quartile (Q3):\", q3)\n",
        "print(\"Interquartile Range (IQR):\", iqr)\n"
      ],
      "metadata": {
        "colab": {
          "base_uri": "https://localhost:8080/"
        },
        "id": "RzvV449DtEdM",
        "outputId": "2c82ef1a-fbc2-4db7-f8e6-52ced6234e23"
      },
      "execution_count": 21,
      "outputs": [
        {
          "output_type": "stream",
          "name": "stdout",
          "text": [
            "First quartile (Q1): 20\n",
            "Third quartile (Q3): 70\n",
            "Interquartile Range (IQR): 50\n"
          ]
        }
      ]
    },
    {
      "cell_type": "code",
      "source": [
        "data = [10, 30, 20, 40, 50, 60, 70, 80, 90]\n",
        "q1, q3 = np.percentile(data, [25, 75])\n",
        "iqr = q3-q1\n",
        "print(iqr)"
      ],
      "metadata": {
        "colab": {
          "base_uri": "https://localhost:8080/"
        },
        "id": "snepBD-f6s4N",
        "outputId": "f979d6a1-b6b4-47ad-b69b-bccb99eae4b7"
      },
      "execution_count": 22,
      "outputs": [
        {
          "output_type": "stream",
          "name": "stdout",
          "text": [
            "40.0\n"
          ]
        }
      ]
    },
    {
      "cell_type": "code",
      "source": [
        "#Q2  (v) Build a program to calculate the coefficient of variation for a dataset.\n",
        "\n",
        "def coefficient_of_variation(data):\n",
        "    if len(data) == 0:\n",
        "        return None\n",
        "\n",
        "    mean = sum(data) / len(data)\n",
        "    variance = sum((x - mean) ** 2 for x in data) / len(data)\n",
        "    standard_deviation = variance ** 0.5\n",
        "\n",
        "    coefficient_variation = (standard_deviation / mean) * 100 # in percentage\n",
        "    return coefficient_variation\n",
        "\n",
        "data = [10, 15, 12, 8, 14, 13, 11, 9, 10, 12, 16, 13, 10, 9, 11]\n",
        "cv = coefficient_of_variation(data)\n",
        "\n",
        "if cv is not None:\n",
        "    print(\"Coefficient of Variation %:\", round(cv,2))\n",
        "else:\n",
        "    print(\"Dataset is empty.\")\n"
      ],
      "metadata": {
        "colab": {
          "base_uri": "https://localhost:8080/"
        },
        "id": "3_JSGetp4Mxj",
        "outputId": "1ea8aece-f531-4df6-8916-58c4b5c241a0"
      },
      "execution_count": 23,
      "outputs": [
        {
          "output_type": "stream",
          "name": "stdout",
          "text": [
            "Coefficient of Variation %: 19.48\n"
          ]
        }
      ]
    },
    {
      "cell_type": "code",
      "source": [
        "#Q2 (vi) Write a Python function to find the mean absolute deviation (MAD) of a list of numbers.\n",
        "def mean_absolute_deviation(data):\n",
        "    if len(data) == 0:\n",
        "        return None\n",
        "\n",
        "    mean = sum(data) / len(data)\n",
        "    absolute_deviations = [abs(x - mean) for x in data]\n",
        "    mad = sum(absolute_deviations) / len(data)\n",
        "\n",
        "    return mad\n",
        "\n",
        "\n",
        "data = [10, 15, 12, 8, 14, 13, 11, 9, 10, 12, 16, 13, 10, 9, 11]\n",
        "mad = mean_absolute_deviation(data)\n",
        "\n",
        "if mad is not None:\n",
        "    print(\"Mean Absolute Deviation:\", mad)\n",
        "else:\n",
        "    print(\"Dataset is empty.\")\n"
      ],
      "metadata": {
        "colab": {
          "base_uri": "https://localhost:8080/"
        },
        "id": "xPeLxQE15bMy",
        "outputId": "b5f4b4d4-140a-4349-d5ef-1075891c68a8"
      },
      "execution_count": 24,
      "outputs": [
        {
          "output_type": "stream",
          "name": "stdout",
          "text": [
            "Mean Absolute Deviation: 1.902222222222222\n"
          ]
        }
      ]
    },
    {
      "cell_type": "code",
      "source": [
        "#Q2 (vii) Create a program to calculate the quartile deviation of a list of values.\n",
        "\n",
        "def quartile_deviation(data):\n",
        "    q1, q3 = np.percentile(data, [25, 75])\n",
        "    quartile_dev = (q3 - q1) / 2\n",
        "    return quartile_dev\n",
        "\n",
        "import numpy as np\n",
        "\n",
        "data = [10, 15, 12, 8, 14, 13, 11, 9, 10, 12, 16, 13, 10, 9, 11]\n",
        "qd = quartile_deviation(data)\n",
        "print(\"Quartile Deviation:\", qd)\n"
      ],
      "metadata": {
        "colab": {
          "base_uri": "https://localhost:8080/"
        },
        "id": "0rU7VNIw6WxU",
        "outputId": "634eb3e0-52e3-49ce-b56d-8534f06fcf8e"
      },
      "execution_count": 25,
      "outputs": [
        {
          "output_type": "stream",
          "name": "stdout",
          "text": [
            "Quartile Deviation: 1.5\n"
          ]
        }
      ]
    },
    {
      "cell_type": "code",
      "source": [
        "#Q2   (viii) Implement a function to find the range-based coefficient of dispersion for a dataset.\n",
        "def range_coefficient_of_dispersion(data):\n",
        "    if len(data) == 0:\n",
        "        return None\n",
        "\n",
        "    range_data = max(data) - min(data)\n",
        "    mean_data = sum(data) / len(data)\n",
        "    rcd = range_data / mean_data\n",
        "\n",
        "    return rcd\n",
        "\n",
        "\n",
        "data = [10, 15, 12, 8, 14, 13, 11, 9, 10, 12, 16, 13, 10, 9, 11]\n",
        "rcd = range_coefficient_of_dispersion(data)\n",
        "\n",
        "if rcd is not None:\n",
        "    print(\"Range-based Coefficient of Dispersion:\", rcd)\n",
        "else:\n",
        "    print(\"Dataset is empty.\")\n"
      ],
      "metadata": {
        "colab": {
          "base_uri": "https://localhost:8080/"
        },
        "id": "KK8_fadP7Qby",
        "outputId": "c1b48c3e-eb94-411f-aeef-f77ef787a456"
      },
      "execution_count": 26,
      "outputs": [
        {
          "output_type": "stream",
          "name": "stdout",
          "text": [
            "Range-based Coefficient of Dispersion: 0.6936416184971098\n"
          ]
        }
      ]
    },
    {
      "cell_type": "code",
      "source": [
        "#Q3 Write a Python class, representing a discrete random variable with methods to calculate its expected value and variance.\n",
        "\n",
        "class DiscreteRandomVariable:\n",
        "    def __init__(self, outcomes, probabilities):\n",
        "        \"\"\"\n",
        "        Initialize the discrete random variable with outcomes and their corresponding probabilities.\n",
        "\n",
        "        :param outcomes: List of possible outcomes.\n",
        "        :param probabilities: List of probabilities corresponding to each outcome.\n",
        "        \"\"\"\n",
        "        if len(outcomes) != len(probabilities):\n",
        "            raise ValueError(\"Length of outcomes and probabilities lists must be the same\")\n",
        "\n",
        "        self.outcomes = outcomes\n",
        "        self.probabilities = probabilities\n",
        "\n",
        "    def expected_value(self):\n",
        "        \"\"\"\n",
        "        Calculate the expected value of the random variable.\n",
        "        The expected value E(X) of a discrete random variable X is calculated as the sum of each possible outcome\n",
        "        multiplied by its corresponding probability P(X=xi).\n",
        "        :return: Expected value.\n",
        "        \"\"\"\n",
        "        return sum(outcome * probability for outcome, probability in zip(self.outcomes, self.probabilities))\n",
        "\n",
        "    def variance(self):\n",
        "        \"\"\"\n",
        "        Calculate the variance of the random variable.\n",
        "        Var(X)=E(X^2)−[E(X)]^2\n",
        "        :return: Variance.\n",
        "        \"\"\"\n",
        "        E_of_X = self.expected_value()\n",
        "        E_of_X2 = sum(probability * (outcome**2)  for outcome, probability in zip(self.outcomes, self.probabilities))\n",
        "\n",
        "        #print(\"E_of_X2\",round(E_of_X2,2))\n",
        "        return round(E_of_X2 - E_of_X**2,2)\n",
        "\n",
        "# sample data\n",
        "outcomes = [1,2,3,4,5]\n",
        "probabilities = [0.1,0.2,0.3,0.2,0.2]\n",
        "\n",
        "random_variable = DiscreteRandomVariable(outcomes, probabilities)\n",
        "\n",
        "print(\"Expected Value:\", random_variable.expected_value())\n",
        "print(\"Variance:\", random_variable.variance())\n",
        "\n"
      ],
      "metadata": {
        "id": "FUzRh-TB7oSf",
        "colab": {
          "base_uri": "https://localhost:8080/"
        },
        "outputId": "cb0dd068-a013-4574-af3d-6aa61a3ef6c0"
      },
      "execution_count": 27,
      "outputs": [
        {
          "output_type": "stream",
          "name": "stdout",
          "text": [
            "Expected Value: 3.2\n",
            "Variance: 1.56\n"
          ]
        }
      ]
    },
    {
      "cell_type": "code",
      "source": [
        "#Q4 Implement a program to simulate the rolling of a fair six-sided die and calculate the expected value and\n",
        "# variance of the outcomes.\n",
        "outcomes = [1,2,3,4,5,6]\n",
        "probabilities = [1/6,1/6,1/6,1/6,1/6,1/6]\n",
        "\n",
        "random_variable = DiscreteRandomVariable(outcomes, probabilities)\n",
        "\n",
        "print(\"Expected Value:\", random_variable.expected_value())\n",
        "print(\"Variance:\", random_variable.variance())"
      ],
      "metadata": {
        "colab": {
          "base_uri": "https://localhost:8080/"
        },
        "id": "BdE5T63PzoIm",
        "outputId": "1ec87b70-6cde-44be-a9d7-49b3e9389e59"
      },
      "execution_count": 28,
      "outputs": [
        {
          "output_type": "stream",
          "name": "stdout",
          "text": [
            "Expected Value: 3.5\n",
            "Variance: 2.92\n"
          ]
        }
      ]
    },
    {
      "cell_type": "code",
      "source": [
        "#Q4 Implement a program to simulate the rolling of a fair six-sided die and calculate the expected value and\n",
        "# variance of the outcomes.\n",
        "import random\n",
        "\n",
        "class FairSixSidedDie:\n",
        "    def __init__(self):\n",
        "      self = self\n",
        "\n",
        "    def expected_value(self):\n",
        "      return sum(outcome * (1/6) for outcome in range(1, 7))\n",
        "\n",
        "  # Calculate the expected value of X^2\n",
        "    def variance(self):\n",
        "      expected_value =  self.expected_value()\n",
        "      expected_value_squared = sum((outcome ** 2) * (1/6) for outcome in range(1, 7))\n",
        "\n",
        "    # Calculate the variance\n",
        "      return(expected_value_squared - expected_value ** 2)\n",
        "\n",
        "print(\"Expected Value:\", FairSixSidedDie().expected_value())\n",
        "print(\"Variance:\", round(FairSixSidedDie().variance(),2))\n",
        "\n",
        "\n"
      ],
      "metadata": {
        "colab": {
          "base_uri": "https://localhost:8080/"
        },
        "id": "FiY_jGb_s-nE",
        "outputId": "be05772a-a71e-48ba-d5b5-fdcadaeb09f8"
      },
      "execution_count": 29,
      "outputs": [
        {
          "output_type": "stream",
          "name": "stdout",
          "text": [
            "Expected Value: 3.5\n",
            "Variance: 2.92\n"
          ]
        }
      ]
    },
    {
      "cell_type": "code",
      "source": [
        "# Q5 Create a Python function to generate random samples from a given probability distribution (e.g.,\n",
        "# binomial, Poisson) and calculate their mean and variance\n",
        "\n",
        "import numpy as np\n",
        "\n",
        "def generate_samples(distribution, params, sample_size):\n",
        "    \"\"\"\n",
        "    Generate random samples from a specified probability distribution and calculate their mean and variance.\n",
        "\n",
        "    :param distribution: A string specifying the probability distribution ('binomial', 'poisson', etc.).\n",
        "    :param params: A tuple containing the parameters of the distribution (e.g., for binomial, it would be (n, p)).\n",
        "    :param sample_size: The size of the random sample to generate.\n",
        "    :return: A tuple containing the mean and variance of the generated random samples.\n",
        "    \"\"\"\n",
        "    if distribution == 'binomial':\n",
        "        n, p = params\n",
        "        samples = np.random.binomial(n, p, sample_size)\n",
        "    elif distribution == 'poisson':\n",
        "        lam = params[0]\n",
        "        samples = np.random.poisson(lam, sample_size)\n",
        "    # Add more elif clauses for other distributions as needed\n",
        "    else:\n",
        "        raise ValueError(\"Unsupported distribution\")\n",
        "\n",
        "    mean = np.mean(samples)\n",
        "    variance = np.var(samples)\n",
        "\n",
        "    return mean, variance\n",
        "\n",
        "\n",
        "distribution = 'binomial'\n",
        "params = (10, 0.5)  # n=10, p=0.5 for binomial distribution\n",
        "sample_size = 1000\n",
        "\n",
        "mean, variance = generate_samples(distribution, params, sample_size)\n",
        "print(\"Mean:\", mean)\n",
        "print(\"Variance:\", variance)\n",
        "\n",
        "\n",
        "distribution = 'poisson'\n",
        "params = (5,)  # λ=5 for Poisson distribution\n",
        "sample_size = 1000\n",
        "mean, variance = generate_samples(distribution, params, sample_size)\n",
        "print(\"Mean:\", mean)\n",
        "print(\"Variance:\", variance)"
      ],
      "metadata": {
        "colab": {
          "base_uri": "https://localhost:8080/"
        },
        "id": "MjmhlLb7xqe8",
        "outputId": "d82fa82c-48a5-4de2-df7a-5e63a70f8120"
      },
      "execution_count": 30,
      "outputs": [
        {
          "output_type": "stream",
          "name": "stdout",
          "text": [
            "Mean: 5.047\n",
            "Variance: 2.592791\n",
            "Mean: 4.854\n",
            "Variance: 4.466684\n"
          ]
        }
      ]
    },
    {
      "cell_type": "code",
      "source": [
        "# Q6 Write a Python script to generate random numbers from a Gaussian (normal) distribution and compute\n",
        "# the mean, variance, and standard deviation of the samples.\n",
        "\n",
        "import numpy as np\n",
        "import statistics\n",
        "# Generate random numbers from a Gaussian (normal) distribution\n",
        "sample_size = 1000000\n",
        "mu = 0  # Mean of the distribution\n",
        "sigma = 1  # Standard deviation of the distribution\n",
        "\n",
        "samples = np.random.normal(mu, sigma, sample_size)\n",
        "\n",
        "# Calculate the mean, variance, and standard deviation of the samples\n",
        "mean = np.mean(samples)\n",
        "variance = np.var(samples)\n",
        "std_deviation = np.std(samples)\n",
        "\n",
        "\n",
        "# Print the results\n",
        "print(\"Mean:\", round(mean,2))\n",
        "print(\"Variance:\", round(variance,2))\n",
        "print(\"Standard Deviation:\", round(std_deviation,2))\n"
      ],
      "metadata": {
        "colab": {
          "base_uri": "https://localhost:8080/"
        },
        "id": "JXtDKC2z8htd",
        "outputId": "bab83103-f446-4b58-a6e2-a4510a26dae1"
      },
      "execution_count": 31,
      "outputs": [
        {
          "output_type": "stream",
          "name": "stdout",
          "text": [
            "Mean: 0.0\n",
            "Variance: 1.0\n",
            "Standard Deviation: 1.0\n"
          ]
        }
      ]
    },
    {
      "cell_type": "code",
      "source": [
        "#Q7 Use seaborn library to load tips dataset. Find the 6ollowing 6rom the dataset 6or the columns total_bill and tip:\n",
        "\n",
        "import seaborn as sns\n",
        "\n",
        "df = sns.load_dataset('tips')\n",
        "df[['total_bill','tip']]\n",
        "df.dtypes\n"
      ],
      "metadata": {
        "id": "MPOfDSWwDnJ5",
        "colab": {
          "base_uri": "https://localhost:8080/"
        },
        "outputId": "1ad4c487-a140-4e2e-b662-f7f9c7945e92"
      },
      "execution_count": 32,
      "outputs": [
        {
          "output_type": "execute_result",
          "data": {
            "text/plain": [
              "total_bill     float64\n",
              "tip            float64\n",
              "sex           category\n",
              "smoker        category\n",
              "day           category\n",
              "time          category\n",
              "size             int64\n",
              "dtype: object"
            ]
          },
          "metadata": {},
          "execution_count": 32
        }
      ]
    },
    {
      "cell_type": "code",
      "source": [
        "# Q7 (i) Write a Python function that calculates their skewness.\n",
        "\n",
        "# plot total_bill (histogram) :\n",
        "plt.hist(df['total_bill'], bins=30, edgecolor='black')\n",
        "plt.xlabel('total_bill')\n",
        "plt.ylabel('Frequency')\n",
        "plt.grid(True)\n",
        "plt.show()\n",
        "\n",
        "\n",
        "# plot tip (histogram) :\n",
        "plt.hist(df['tip'], bins=30, edgecolor='black')\n",
        "plt.xlabel('tip')\n",
        "plt.ylabel('Frequency')\n",
        "plt.grid(True)\n",
        "plt.show()"
      ],
      "metadata": {
        "colab": {
          "base_uri": "https://localhost:8080/",
          "height": 882
        },
        "id": "Auot6_J14Mbc",
        "outputId": "f2bb85e9-0512-4b26-e3c9-2a2631228454"
      },
      "execution_count": 33,
      "outputs": [
        {
          "output_type": "display_data",
          "data": {
            "text/plain": [
              "<Figure size 640x480 with 1 Axes>"
            ],
            "image/png": "[encoded data removed]"
          },
          "metadata": {}
        },
        {
          "output_type": "display_data",
          "data": {
            "text/plain": [
              "<Figure size 640x480 with 1 Axes>"
            ],
            "image/png": "[encoded data removed]"
          },
          "metadata": {}
        }
      ]
    },
    {
      "cell_type": "code",
      "source": [
        "from scipy.stats import skew\n",
        "\n",
        "def calculate_skewness_v1(data):\n",
        "  n = len(data)\n",
        "  std_deviation = np.std(data)\n",
        "  mean = np.mean(data)\n",
        "  temp = sum([(i - mean)**3 for i in data])\n",
        "  temp1 = (n-1)*(std_deviation**3)\n",
        "  skewness = temp/temp1\n",
        "  return skewness\n",
        "# skewness for total_bill and tip\n",
        "print(\"skewness for total_bill\", round(calculate_skewness_v1(df['total_bill']),3))\n",
        "print(\"skewness for total_bill\", round(calculate_skewness_v1(df['tip']),3))\n",
        "\n",
        "def calculate_skewness_v2(data):\n",
        "  skewness = skew(data)\n",
        "  return skewness\n",
        "\n",
        "\n",
        "# skewness for total_bill and tip with inbuild function\n",
        "print(\"skewness for total_bill with inbuild function\", round(calculate_skewness_v2(df['total_bill']),3))\n",
        "print(\"skewness for total_bill with inbuild function\", round(calculate_skewness_v2(df['tip']),3))\n",
        "\n",
        "\n",
        "# Insight : total_bill is highly skewed as the skewness is more than 1 ~ 1.1\n",
        "# Insight : tip is highly skewed as the skewness is more than 1 ~ 1.4"
      ],
      "metadata": {
        "colab": {
          "base_uri": "https://localhost:8080/"
        },
        "id": "2psPH3OG7DpE",
        "outputId": "fa23a035-3a11-4b68-b470-d3b9b4ad1f83"
      },
      "execution_count": 34,
      "outputs": [
        {
          "output_type": "stream",
          "name": "stdout",
          "text": [
            "skewness for total_bill 1.131\n",
            "skewness for total_bill 1.462\n",
            "skewness for total_bill with inbuild function 1.126\n",
            "skewness for total_bill with inbuild function 1.456\n"
          ]
        }
      ]
    },
    {
      "cell_type": "code",
      "source": [
        "# Q7 (ii) Create a program that determines whether the columns exhibit positive skewness,\n",
        "# negative skewness, or is approximately symmetric.\n",
        "\n",
        "from scipy.stats import skew\n",
        "\n",
        "def skewness_classification(data):\n",
        "    skewness_results = {}\n",
        "    numeric_columns = data.select_dtypes(include=['number']).columns\n",
        "    for column in numeric_columns:\n",
        "        skewness = skew(data[column])\n",
        "        if skewness > 0.5:\n",
        "            skewness_results[column] = \"Positive skewness\"\n",
        "        elif skewness < -0.5:\n",
        "            skewness_results[column] = \"Negative skewness\"\n",
        "        else:\n",
        "            skewness_results[column] = \"Approximately symmetric\"\n",
        "    return skewness_results\n",
        "\n",
        "# Convert data to DataFrame\n",
        "df = sns.load_dataset('tips')\n",
        "\n",
        "# skewness for each column\n",
        "classification = skewness_classification(df)\n",
        "# Print results\n",
        "for column, result in classification.items():\n",
        "    print(f\"{column}: {result}\")\n"
      ],
      "metadata": {
        "colab": {
          "base_uri": "https://localhost:8080/"
        },
        "id": "cuTY9ibXGCWM",
        "outputId": "a58e383e-89c7-4dc3-c7d5-41a681545e36"
      },
      "execution_count": 35,
      "outputs": [
        {
          "output_type": "stream",
          "name": "stdout",
          "text": [
            "total_bill: Positive skewness\n",
            "tip: Positive skewness\n",
            "size: Positive skewness\n"
          ]
        }
      ]
    },
    {
      "cell_type": "code",
      "source": [
        "#Q7 (iii) Write a function that calculates the covariance between two columns.\n",
        "\n",
        "def cal_covarince(data_x, data_y):\n",
        "  # both dataset should of same size:\n",
        "  if len(data_x) != len(data_y):\n",
        "    return \"data mismatch\"\n",
        "  else:\n",
        "    mean_x = np.mean(data_x)\n",
        "    mean_y = np.mean(data_y)\n",
        "    covariance = np.sum((data_x - mean_x) * (data_y - mean_y)) / len(data_x)\n",
        "    return covariance\n",
        "\n",
        "# call function\n",
        "df = sns.load_dataset('tips')\n",
        "print(cal_covarince(df['total_bill'],df['tip']))\n",
        "\n"
      ],
      "metadata": {
        "colab": {
          "base_uri": "https://localhost:8080/"
        },
        "id": "_lFyLDW5G3Mw",
        "outputId": "132aa645-a01f-4b5e-d817-3924669f44d5"
      },
      "execution_count": 36,
      "outputs": [
        {
          "output_type": "stream",
          "name": "stdout",
          "text": [
            "8.289388917629669\n"
          ]
        }
      ]
    },
    {
      "cell_type": "code",
      "source": [
        "import pandas as pd\n",
        "# Calculate covariance matrix\n",
        "covariance_matrix = df.cov(numeric_only=True)\n",
        "print(\"Covariance matrix:\")\n",
        "print(covariance_matrix)\n"
      ],
      "metadata": {
        "colab": {
          "base_uri": "https://localhost:8080/"
        },
        "id": "XotCwoGmFp92",
        "outputId": "5f64f23d-6332-406b-8a85-19a70cb67279"
      },
      "execution_count": 37,
      "outputs": [
        {
          "output_type": "stream",
          "name": "stdout",
          "text": [
            "Covariance matrix:\n",
            "            total_bill       tip      size\n",
            "total_bill   79.252939  8.323502  5.065983\n",
            "tip           8.323502  1.914455  0.643906\n",
            "size          5.065983  0.643906  0.904591\n"
          ]
        }
      ]
    },
    {
      "cell_type": "code",
      "source": [
        "# Q7 (iv) Implement a Python program that calculates the Pearson correlation coefficent between two columns.\n",
        "\n",
        "import numpy as np\n",
        "\n",
        "def calculate_pearson_correlation(column1, column2):\n",
        "    \"\"\"\n",
        "    Calculate the Pearson correlation coefficient between two columns.\n",
        "\n",
        "    Parameters:\n",
        "        column1 (array-like): First column.\n",
        "        column2 (array-like): Second column.\n",
        "\n",
        "    Returns:\n",
        "        float: Pearson correlation coefficient between the two columns.\n",
        "    \"\"\"\n",
        "    if len(column1) != len(column2):\n",
        "        raise ValueError(\"Columns must have the same length\")\n",
        "\n",
        "    covariance = cal_covarince(column1, column2)\n",
        "    std_dev1 = np.std(column1)\n",
        "    std_dev2 = np.std(column2)\n",
        "\n",
        "    correlation_coefficient = covariance / (std_dev1 * std_dev2)\n",
        "\n",
        "    return correlation_coefficient\n",
        "\n",
        "pearson_correlation = calculate_pearson_correlation(df['total_bill'], df['tip'])\n",
        "print(\"Pearson correlation coefficient:\", pearson_correlation)\n"
      ],
      "metadata": {
        "colab": {
          "base_uri": "https://localhost:8080/"
        },
        "id": "vHBv7oPpO3O-",
        "outputId": "dc161ca4-0a23-4ba9-ada0-a4b6bf1aea06"
      },
      "execution_count": 38,
      "outputs": [
        {
          "output_type": "stream",
          "name": "stdout",
          "text": [
            "Pearson correlation coefficient: 0.6757341092113645\n"
          ]
        }
      ]
    },
    {
      "cell_type": "code",
      "source": [
        "from scipy.stats import pearsonr\n",
        "\n",
        "# Calculate Pearson correlation coefficient and p-value\n",
        "correlation_coefficient, p_value = pearsonr(df['total_bill'], df['tip'])\n",
        "\n",
        "print(\"Pearson correlation coefficient:\", correlation_coefficient)\n",
        "print(\"P-value:\", p_value)\n"
      ],
      "metadata": {
        "colab": {
          "base_uri": "https://localhost:8080/"
        },
        "id": "-q9CKoQOQwZC",
        "outputId": "c6548785-6795-4f1b-99e8-2533ab3f93cf"
      },
      "execution_count": 39,
      "outputs": [
        {
          "output_type": "stream",
          "name": "stdout",
          "text": [
            "Pearson correlation coefficient: 0.6757341092113647\n",
            "P-value: 6.69247064686336e-34\n"
          ]
        }
      ]
    },
    {
      "cell_type": "code",
      "source": [
        "#Q7 (v) Write a script to visualize the correlation between two specific columns in a Pandas DataFrame using\n",
        "# scatter plots.\n",
        "\n",
        "import pandas as pd\n",
        "import matplotlib.pyplot as plt\n",
        "\n",
        "def visualize_correlation(data, column1, column2):\n",
        "    plt.figure(figsize=(8, 6))\n",
        "    # plt.scatter(data[column1], data[column2], alpha=0.5)\n",
        "    sns.scatterplot(data=data, x=column1, y=column2)\n",
        "    # Add a regression line to the plot\n",
        "    sns.regplot(data=data, x=column1, y=column2, scatter=False)\n",
        "    plt.title(f\"Scatter Plot: {column1} vs {column2}\")\n",
        "    plt.xlabel(column1)\n",
        "    plt.ylabel(column2)\n",
        "    plt.grid(True)\n",
        "    plt.show()\n",
        "\n",
        "# Visualize the correlation between 'total_bill' and 'tip' using scatter plot\n",
        "visualize_correlation(df, 'total_bill', 'tip')\n",
        "\n",
        "\n",
        "# Visualize the correlation between 'total_bill' and 'size' using scatter plot\n",
        "# visualize_correlation(df, 'total_bill', 'size')\n"
      ],
      "metadata": {
        "colab": {
          "base_uri": "https://localhost:8080/",
          "height": 564
        },
        "id": "e37D4B7qQ6dI",
        "outputId": "addd971d-f094-4f60-cf74-8422a89b3ca4"
      },
      "execution_count": 40,
      "outputs": [
        {
          "output_type": "display_data",
          "data": {
            "text/plain": [
              "<Figure size 800x600 with 1 Axes>"
            ],
            "image/png": "[encoded data removed]"
          },
          "metadata": {}
        }
      ]
    },
    {
      "cell_type": "code",
      "source": [
        "#Q8 Write a Python function to calculate the probability density function (PDF) of a continuous random\n",
        "# variable for a given normal distribution.\n",
        "\n",
        "\n",
        "import math\n",
        "\n",
        "def normal_pdf(x, mu, sigma):\n",
        "    \"\"\"\n",
        "    Calculate the probability density function (PDF) of a normal distribution.\n",
        "\n",
        "    Parameters:\n",
        "    x (float): The value at which to evaluate the PDF.\n",
        "    mu (float): The mean of the normal distribution.\n",
        "    sigma (float): The standard deviation of the normal distribution.\n",
        "\n",
        "    Returns:\n",
        "    float: The probability density function (PDF) value at x.\n",
        "    \"\"\"\n",
        "    coefficient = 1 / (sigma * math.sqrt(2 * math.pi))\n",
        "    exponent = -((x - mu) ** 2) / (2 * sigma ** 2)\n",
        "    pdf = coefficient * math.exp(exponent)\n",
        "    return pdf\n",
        "\n",
        "mu = 0  # Mean of the distribution\n",
        "sigma = 1  # Standard deviation of the distribution\n",
        "x = 1  # Value at which to evaluate the PDF\n",
        "pdf_value = normal_pdf(x, mu, sigma)\n",
        "print(\"PDF at x =\", x, \"is\", pdf_value)\n",
        "\n"
      ],
      "metadata": {
        "colab": {
          "base_uri": "https://localhost:8080/"
        },
        "id": "Vj2EnS3wRznM",
        "outputId": "0c0516a6-7e8b-4460-ff81-ccaaf6a26708"
      },
      "execution_count": 41,
      "outputs": [
        {
          "output_type": "stream",
          "name": "stdout",
          "text": [
            "PDF at x = 1 is 0.24197072451914337\n"
          ]
        }
      ]
    },
    {
      "cell_type": "code",
      "source": [
        "from scipy.stats import norm\n",
        "\n",
        "def normal_pdf(x, mu, sigma):\n",
        "    \"\"\"\n",
        "    Calculate the probability density function (PDF) of a normal distribution.\n",
        "\n",
        "    Parameters:\n",
        "    x (float): The value at which to evaluate the PDF.\n",
        "    mu (float): The mean of the normal distribution.\n",
        "    sigma (float): The standard deviation of the normal distribution.\n",
        "\n",
        "    Returns:\n",
        "    float: The probability density function (PDF) value at x.\n",
        "    \"\"\"\n",
        "    return norm.pdf(x, loc=mu, scale=sigma)\n",
        "\n",
        "mu = 0  # Mean of the distribution\n",
        "sigma = 1  # Standard deviation of the distribution\n",
        "x = 1  # Value at which to evaluate the PDF\n",
        "pdf_value = normal_pdf(x, mu, sigma)\n",
        "print(\"PDF at x =\", x, \"is\", pdf_value)\n"
      ],
      "metadata": {
        "id": "lrLxWgNIha99",
        "colab": {
          "base_uri": "https://localhost:8080/"
        },
        "outputId": "6e00dd2f-0a67-4ab3-cbb2-1d1c700fd58d"
      },
      "execution_count": 42,
      "outputs": [
        {
          "output_type": "stream",
          "name": "stdout",
          "text": [
            "PDF at x = 1 is 0.24197072451914337\n"
          ]
        }
      ]
    },
    {
      "cell_type": "code",
      "source": [
        "# Q9 Create a program to calculate the cumulative distribution function (CDF) of exponential distribution.\n",
        "\n",
        "import math\n",
        "\n",
        "def exponential_cdf(x, lambd):\n",
        "    \"\"\"\n",
        "    Calculate the cumulative distribution function (CDF) of the exponential distribution.\n",
        "\n",
        "    Parameters:\n",
        "    x (float): The value at which to evaluate the CDF.\n",
        "    lambd (float): The rate parameter of the exponential distribution.\n",
        "\n",
        "    Returns:\n",
        "    float: The cumulative distribution function (CDF) value at x.\n",
        "    \"\"\"\n",
        "    return 1 - math.exp(-lambd * x)\n",
        "\n",
        "lambd = 0.5  # Rate parameter of the distribution\n",
        "x = 1.5  # Value at which to evaluate the CDF\n",
        "cdf_value = exponential_cdf(x, lambd)\n",
        "print(\"CDF at x =\", x, \"is\", cdf_value)\n"
      ],
      "metadata": {
        "colab": {
          "base_uri": "https://localhost:8080/"
        },
        "id": "8yBPqbGGincd",
        "outputId": "21ae9b29-6c46-418e-f458-09e626ea90eb"
      },
      "execution_count": 43,
      "outputs": [
        {
          "output_type": "stream",
          "name": "stdout",
          "text": [
            "CDF at x = 1.5 is 0.5276334472589853\n"
          ]
        }
      ]
    },
    {
      "cell_type": "code",
      "source": [
        "#Q10. Write a Python function to calculate the probability mass function (PMF) of Poisson distribution.\n",
        "\n",
        "import math\n",
        "\n",
        "def poisson_pmf(k, lambd):\n",
        "    \"\"\"\n",
        "    Calculate the probability mass function (PMF) of the Poisson distribution.\n",
        "\n",
        "    Parameters:\n",
        "    k (int): The number of events.\n",
        "    lambd (float): The average rate of occurrence.\n",
        "\n",
        "    Returns:\n",
        "    float: The probability mass function (PMF) value for k.\n",
        "    \"\"\"\n",
        "    return (math.exp(-lambd) * (lambd ** k)) / math.factorial(k)\n",
        "\n",
        "lambd = 3  # Average rate of occurrence\n",
        "k = 2  # Number of events\n",
        "pmf_value = poisson_pmf(k, lambd)\n",
        "print(\"PMF at k =\", k, \"is\", pmf_value)\n"
      ],
      "metadata": {
        "colab": {
          "base_uri": "https://localhost:8080/"
        },
        "id": "LqRoxyLEjMk_",
        "outputId": "983c3434-1096-411f-c21c-aaac8a681e51"
      },
      "execution_count": 44,
      "outputs": [
        {
          "output_type": "stream",
          "name": "stdout",
          "text": [
            "PMF at k = 2 is 0.22404180765538775\n"
          ]
        }
      ]
    },
    {
      "cell_type": "code",
      "source": [
        "#Q11 .A company wants to test if a new website layout leads to a higher conversion rate (percentage of visitors\n",
        "# who make a purchase). They collect data from the old and new layouts to compare.\n",
        "\n",
        "import numpy as np\n",
        "from statsmodels.stats.proportion import proportions_ztest\n",
        "\n",
        "# Define the datasets\n",
        "old_layout = np.array([1] * 50 + [0] * 950)\n",
        "new_layout = np.array([1] * 70 + [0] * 930)\n",
        "\n",
        "# Calculate the number of successes in each group\n",
        "successes_old = np.sum(old_layout)\n",
        "successes_new = np.sum(new_layout)\n",
        "\n",
        "# Calculate the sample sizes\n",
        "n_old = len(old_layout)\n",
        "n_new = len(new_layout)\n",
        "\n",
        "# Perform z-test for proportions\n",
        "z_stat, p_value = proportions_ztest([successes_old, successes_new], [n_old, n_new])\n",
        "\n",
        "# Output the results\n",
        "print(\"Z-statistic:\", z_stat)\n",
        "print(\"P-value:\", p_value)\n",
        "\n",
        "\n",
        "# Compare p-value with significance level\n",
        "alpha = 0.05\n",
        "if p_value < alpha:\n",
        "    print(\"There is a statistically significant difference between the two layouts.\")\n",
        "    if successes_new > successes_old:\n",
        "        print(\"The new layout is more successful.\")\n",
        "    elif successes_new < successes_old:\n",
        "        print(\"The old layout is more successful.\")\n",
        "    else:\n",
        "        print(\"Both layouts have the same level of success.\")\n",
        "else:\n",
        "    print(\"There is no statistically significant difference between the two layouts.\")\n"
      ],
      "metadata": {
        "colab": {
          "base_uri": "https://localhost:8080/"
        },
        "id": "tyAvx4PCkUdq",
        "outputId": "963db0c7-6c20-43c5-f6a6-e02f51cd4366"
      },
      "execution_count": 45,
      "outputs": [
        {
          "output_type": "stream",
          "name": "stdout",
          "text": [
            "Z-statistic: -1.883108942886774\n",
            "P-value: 0.059685605532426224\n",
            "There is no statistically significant difference between the two layouts.\n"
          ]
        }
      ]
    },
    {
      "cell_type": "code",
      "source": [
        "# 12.A tutoring service claims that its program improves students exam scores.\n",
        "# A sample of students who participated in the program was taken, and their scores beNore and after the program were recorded.\n",
        "\n",
        "# as the sample zise is <30 we need to go for T-test\n",
        "\n",
        "# Null Hypothesis (H0): The tutoring program has no effect on students' exam scores.\n",
        "# In mathematical terms, the mean difference between the before-program and after-program scores is zero.\n",
        "# H0: μ(after) - μ(before) = 0\n",
        "\n",
        "# Alternative Hypothesis (H1): The tutoring program does improve students' exam scores.\n",
        "#In mathematical terms, the mean difference between the after-program and before-program scores is greater than zero.\n",
        "# H1: μ(after) - μ(before) > 0 (# one tail test)\n",
        "\n",
        "import numpy as np\n",
        "from scipy.stats import ttest_rel\n",
        "# use :ttest_rel\n",
        "# Calculate the t-test on TWO RELATED samples of scores, a and b.\n",
        "\n",
        "# This is a test for the null hypothesis that two related or\n",
        "# repeated samples have identical average (expected) values.\n",
        "# significance level (e.g., 0.05)\n",
        "alpha = 0.05\n",
        "before_program = np.array([75, 80, 85, 70, 90, 78, 92, 88, 82, 87])\n",
        "after_program = np.array([80, 85, 90, 80, 92, 80, 95, 90, 85, 88])\n",
        "\n",
        "\n",
        "t_statistic, p_value = ttest_rel(before_program, after_program)\n",
        "print(\"t-statistic:\", t_statistic)\n",
        "print(\"p-value:\", p_value)\n",
        "\n",
        "# Check if the p-value is less than the significance level to reject the null hypothesis\n",
        "\n",
        "if p_value < alpha:\n",
        "  print(\"Reject the null hypothesis. There is evidence to suggest that the tutoring program improves students' exam scores.\")\n",
        "else:\n",
        "  print(\"Fail to reject the null hypothesis. There is no significant evidence to suggest that the tutoring program improves students' exam scores.\")\n",
        "\n"
      ],
      "metadata": {
        "id": "M9IA3tGGpEzv",
        "colab": {
          "base_uri": "https://localhost:8080/"
        },
        "outputId": "d1d77c11-3464-40ed-fd0e-2bcad722011c"
      },
      "execution_count": 46,
      "outputs": [
        {
          "output_type": "stream",
          "name": "stdout",
          "text": [
            "t-statistic: -4.593190894944668\n",
            "p-value: 0.0013030932910086035\n",
            "Reject the null hypothesis. There is evidence to suggest that the tutoring program improves students' exam scores.\n"
          ]
        }
      ]
    },
    {
      "cell_type": "code",
      "source": [
        "#Q13 A pharmaceutical company wants to determine if a new drug is effective in reducing blood pressure. They\n",
        "# conduct a study and record blood pressure measurements before and after administering the drug.\n",
        "# Implement z-test to find if the drug really works or not.\n",
        "\n",
        "# Null Hypothesis (H0): The drug has no effect on blood pressure, meaning the mean blood pressure before administering the drug is the same as the mean blood pressure after administering the drug.\n",
        "# H0: μ(before) = μ(after)\n",
        "# Alternative Hypothesis (H1): The drug is effective in reducing blood pressure, meaning the mean blood pressure after administering the drug is less than the mean blood pressure before administering the drug.\n",
        "# H1: μ(before) > μ(after) # one tail test\n",
        "\n",
        "import numpy as np\n",
        "from statsmodels.stats.weightstats import  ztest\n",
        "\n",
        "before_drug = np.array([145, 150, 140, 135, 155, 160, 152, 148, 130, 138])\n",
        "after_drug = np.array([130, 140, 132, 128, 145, 148, 138, 136, 125, 130])\n",
        "z_statistic, p_value = ztest(before_drug, x2=after_drug, alternative='larger')\n",
        "\n",
        "# Print the results\n",
        "print(\"z-statistic:\", z_statistic)\n",
        "print(\"p-value:\", p_value)\n",
        "\n",
        "if p_value <= 0.05:\n",
        "    print(\"Reject the H0\")\n",
        "else:\n",
        "    print(\"fail to reject the H0\")\n",
        "\n",
        "\n"
      ],
      "metadata": {
        "colab": {
          "base_uri": "https://localhost:8080/"
        },
        "id": "hzTPniTdIGjV",
        "outputId": "c75affd6-1154-441f-f6f3-83fc092e1577"
      },
      "execution_count": 47,
      "outputs": [
        {
          "output_type": "stream",
          "name": "stdout",
          "text": [
            "z-statistic: 2.639577121919447\n",
            "p-value: 0.004150476693595778\n",
            "Reject the H0\n"
          ]
        }
      ]
    },
    {
      "cell_type": "code",
      "source": [
        "#Q14 A customer service department claims that their average response time is less than 5 minutes. A sample\n",
        "# of recent customer interactions was taken, and the response times were recorded.\n",
        "\n",
        "# Implement z-test to find the claims made by customer service department are true or false.\n",
        "\n",
        "# Null Hypothesis (H0): H0: μ(reposnse-time) >= 5 min (The average response time is equal to or greater than 5 minutes.)\n",
        "# Alternative Hypothesis (H1): H1: μ(reposnse-time) < 5 min # one tail test (The average response time is less than 5 minutes.)\n",
        "\n",
        "import numpy as np\n",
        "from statsmodels.stats.weightstats import  ztest\n",
        "# Define the population mean under the null hypothesis\n",
        "population_mean = 5 # avg. reponse time\n",
        "\n",
        "response_times = np.array([4.3, 3.8, 5.1, 4.9, 4.7, 4.2, 5.2, 4.5, 4.6, 4.4])\n",
        "\n",
        "z_statistic, p_value = ztest(x1=response_times, value=population_mean, alternative='smaller')\n",
        "\n",
        "# Print the results\n",
        "print(\"z-statistic:\", z_statistic)\n",
        "print(\"p-value:\", p_value)\n",
        "\n",
        "if p_value <= 0.05:\n",
        "  print(\"Reject null hypothesis. There is sufficient evidence to conclude that the average response time is less than 5 minutes.\")\n",
        "else:\n",
        "  print(\"Fail to reject null hypothesis. There is not sufficient evidence to conclude that the average response time is less than 5 minutes.\")\n",
        "\n"
      ],
      "metadata": {
        "colab": {
          "base_uri": "https://localhost:8080/"
        },
        "id": "33ls336fQNU8",
        "outputId": "16ff628f-f426-4249-802f-174eefc76bb2"
      },
      "execution_count": 48,
      "outputs": [
        {
          "output_type": "stream",
          "name": "stdout",
          "text": [
            "z-statistic: -3.1844572260429627\n",
            "p-value: 0.0007251287113068958\n",
            "Reject null hypothesis. There is sufficient evidence to conclude that the average response time is less than 5 minutes.\n"
          ]
        }
      ]
    },
    {
      "cell_type": "code",
      "source": [
        "# Q15 A company is testing two different website layouts to see which one leads to higher click-through rates.\n",
        "# Write a Python function to perform an A/B test analysis, including calculating the t-statistic, degrees of\n",
        "# freedom, and p-value.\n",
        "\n",
        "\n",
        "# To perform an A/B test analysis comparing the click-through rates of two website layouts, using independent samples t-test.\n",
        "\n",
        "\n",
        "import numpy as np\n",
        "from scipy import stats\n",
        "\n",
        "def ab_test(layout_a_clicks, layout_b_clicks):\n",
        "    # Calculate sample statistics\n",
        "    mean_a = np.mean(layout_a_clicks)\n",
        "    mean_b = np.mean(layout_b_clicks)\n",
        "    var_a = np.var(layout_a_clicks, ddof=1)\n",
        "    var_b = np.var(layout_b_clicks, ddof=1)\n",
        "    n_a = len(layout_a_clicks)\n",
        "    n_b = len(layout_b_clicks)\n",
        "\n",
        "    # Calculate pooled standard deviation\n",
        "    pooled_std = np.sqrt((var_a/n_a) + (var_b/n_b))\n",
        "\n",
        "    # Calculate t-statistic\n",
        "    t_statistic = (mean_a - mean_b) / pooled_std\n",
        "\n",
        "    # Calculate degrees of freedom\n",
        "    degrees_of_freedom = (var_a/n_a + var_b/n_b)**2 / ((var_a/n_a)**2/(n_a-1) + (var_b/n_b)**2/(n_b-1))\n",
        "\n",
        "    # Calculate p-value\n",
        "    p_value = stats.t.sf(np.abs(t_statistic), degrees_of_freedom) * 2  # two-tailed test\n",
        "\n",
        "    return t_statistic, degrees_of_freedom, p_value\n",
        "\n",
        "# Website layout click-through rates\n",
        "layout_a_clicks = [28, 32, 33, 29, 31, 34, 30, 35, 36, 37]\n",
        "layout_b_clicks = [40, 41, 38, 42, 39, 44, 43, 41, 45, 47]\n",
        "\n",
        "# Perform A/B test analysis\n",
        "t_statistic, degrees_of_freedom, p_value = ab_test(layout_a_clicks, layout_b_clicks)\n",
        "\n",
        "# Print results\n",
        "print(\"t-statistic:\", t_statistic)\n",
        "print(\"Degrees of Freedom:\", degrees_of_freedom)\n",
        "print(\"p-value:\", p_value)\n",
        "\n",
        "# Interpret the results\n",
        "alpha = 0.05\n",
        "if p_value < alpha:\n",
        "    print(\"Reject the null hypothesis. There is sufficient evidence to suggest that the two layouts have different click-through rates.\")\n",
        "else:\n",
        "    print(\"Fail to reject the null hypothesis. There is not sufficient evidence to suggest that the two layouts have different click-through rates.\")\n"
      ],
      "metadata": {
        "colab": {
          "base_uri": "https://localhost:8080/"
        },
        "id": "IsikQHuQaEvE",
        "outputId": "ece27cb3-1886-4a63-9f4f-00014c359c41"
      },
      "execution_count": 49,
      "outputs": [
        {
          "output_type": "stream",
          "name": "stdout",
          "text": [
            "t-statistic: -7.298102156175071\n",
            "Degrees of Freedom: 17.879871863320876\n",
            "p-value: 9.196596070789357e-07\n",
            "Reject the null hypothesis. There is sufficient evidence to suggest that the two layouts have different click-through rates.\n"
          ]
        }
      ]
    },
    {
      "cell_type": "code",
      "source": [
        "#Q16 A pharmaceutical company wants to determine if a new drug is more effective than an existing drug in\n",
        "# reducing cholesterol levels. Create a program to analyze the clinical trial data\n",
        "# and calculate the tstatistic and p-value for the treatment effect.\n",
        "\n",
        "from scipy import stats\n",
        "\n",
        "# Clinical trial data\n",
        "existing_drug_levels = [180, 182, 175, 185, 178, 176, 172, 184, 179, 183]\n",
        "new_drug_levels = [170, 172, 165, 168, 175, 173, 170, 178, 172, 176]\n",
        "\n",
        "# Perform independent samples t-test\n",
        "t_statistic, p_value = stats.ttest_ind(existing_drug_levels, new_drug_levels)\n",
        "\n",
        "# Print results\n",
        "print(\"t-statistic:\", t_statistic)\n",
        "print(\"p-value:\", p_value)\n",
        "\n",
        "# Interpret the results\n",
        "alpha = 0.05\n",
        "if p_value < alpha:\n",
        "    print(\"Reject the null hypothesis. There is sufficient evidence to suggest that the new drug is more effective than the existing drug in reducing cholesterol levels.\")\n",
        "else:\n",
        "    print(\"Fail to reject the null hypothesis. There is not sufficient evidence to suggest that the new drug is more effective than the existing drug in reducing cholesterol levels.\")\n"
      ],
      "metadata": {
        "colab": {
          "base_uri": "https://localhost:8080/"
        },
        "id": "Xi2t26DToTMZ",
        "outputId": "5dd15ae3-a771-4ba6-c701-069471f67ca9"
      },
      "execution_count": 50,
      "outputs": [
        {
          "output_type": "stream",
          "name": "stdout",
          "text": [
            "t-statistic: 4.14048098620866\n",
            "p-value: 0.0006143398442372505\n",
            "Reject the null hypothesis. There is sufficient evidence to suggest that the new drug is more effective than the existing drug in reducing cholesterol levels.\n"
          ]
        }
      ]
    },
    {
      "cell_type": "code",
      "source": [
        "#Q17 A school district introduces an educational intervention program to improve math scores.\n",
        "# Write a Python function to analyze pre- and post-intervention test scores,\n",
        "# calculating the t-statistic and p-value to determine if the intervention had a significant impact.\n",
        "\n",
        "\n",
        "# Null Hypothesis (H0): The intervention had no significant impact on math scores.\n",
        "# In other words, there is no difference between the pre-intervention and post-intervention test scores.\n",
        "# μ pre = μ post\n",
        "\n",
        "# Alternative Hypothesis (H1): The intervention had a significant impact on math scores.\n",
        "# In other words, there is a difference between the pre-intervention and post-intervention test scores.\n",
        "# μ pre != μ post​\n",
        "\n",
        "\n",
        "from scipy import stats\n",
        "\n",
        "pre_intervention_scores = [80, 85, 90, 75, 88, 82, 92, 78, 85, 87]\n",
        "post_intervention_scores = [90, 92, 88, 92, 95, 91, 96, 93, 89, 93]\n",
        "\n",
        "# Perform relative t-test\n",
        "t_statistic, p_value = stats.ttest_rel(pre_intervention_scores, post_intervention_scores)\n",
        "\n",
        "# Print results\n",
        "print(\"t-statistic:\", t_statistic)\n",
        "print(\"p-value:\", p_value/2) # two tail test\n",
        "\n",
        "# Interpret the results\n",
        "alpha = 0.05\n",
        "\n",
        "if p_value/2 < alpha:\n",
        "    print(\"Reject the null hypothesis. There is sufficient evidence to suggest that the intervention had a significant impact on math scores.\")\n",
        "else:\n",
        "    print(\"Fail to reject the null hypothesis. There is not sufficient evidence to suggest that the intervention had a significant impact on math scores.\")"
      ],
      "metadata": {
        "colab": {
          "base_uri": "https://localhost:8080/"
        },
        "id": "rO2rQHnio7-2",
        "outputId": "1eba4a12-d5cf-4e16-d8a2-456fe5220252"
      },
      "execution_count": 51,
      "outputs": [
        {
          "output_type": "stream",
          "name": "stdout",
          "text": [
            "t-statistic: -4.42840883965761\n",
            "p-value: 0.0008254774082897746\n",
            "Reject the null hypothesis. There is sufficient evidence to suggest that the intervention had a significant impact on math scores.\n"
          ]
        }
      ]
    },
    {
      "cell_type": "code",
      "source": [
        "#Q18 An HR department wants to investigate if there's a gender-based salary gap within the company. Develop\n",
        "# a program to analyze salary data, calculate the t-statistic, and determine if there's a statistically\n",
        "# significant difference between the average salaries of male and female employees.\n",
        "\n",
        "# Null Hypothesis (𝐻0):There is no gender-based salary gap within the company. Mathematically, this can be expressed as:\n",
        "# 𝐻0:𝜇male=𝜇female\n",
        "\n",
        "# Alternative Hypothesis (𝐻1):There is a gender-based salary gap within the company. Mathematically, this can be expressed as:\n",
        "# 𝐻1:𝜇male≠𝜇female (two tail test)\n",
        "# This indicates that the population mean salaries of male and female employees are different.\n",
        "\n",
        "# Where\n",
        "# 𝜇male represents the population mean salary of male employees and\n",
        "# 𝜇female represents the population mean salary of female employees.\n",
        "\n",
        "import numpy as np\n",
        "from scipy import stats\n",
        "\n",
        "np.random.seed(0)  # For reproducibility\n",
        "male_salaries = np.random.normal(loc=50000, scale=10000, size=20)\n",
        "female_salaries = np.random.normal(loc=55000, scale=9000, size=20)\n",
        "\n",
        "# Perform independant t-test\n",
        "t_statistic, p_value = stats.ttest_ind(male_salaries, female_salaries)\n",
        "\n",
        "# Print results\n",
        "print(\"t-statistic:\", t_statistic)\n",
        "print(\"p-value:\", p_value/2) # two tail test\n",
        "\n",
        "# Interpret the results\n",
        "alpha = 0.05\n",
        "\n",
        "if p_value/2 < alpha:\n",
        "    print(\"Reject the null hypothesis. There is sufficient evidence to suggest that There is a gender-based salary gap within the company.\")\n",
        "else:\n",
        "    print(\"Fail to reject the null hypothesis. There is not sufficient evidence to suggest that There is a gender-based salary gap within the company.\")"
      ],
      "metadata": {
        "id": "7b1wRSPup-CC",
        "colab": {
          "base_uri": "https://localhost:8080/"
        },
        "outputId": "b7574cd1-2178-4891-e640-682b3db0c0ab"
      },
      "execution_count": 53,
      "outputs": [
        {
          "output_type": "stream",
          "name": "stdout",
          "text": [
            "t-statistic: 0.06114208969631383\n",
            "p-value: 0.47578325103382324\n",
            "Fail to reject the null hypothesis. There is not sufficient evidence to suggest that There is a gender-based salary gap within the company.\n"
          ]
        }
      ]
    },
    {
      "cell_type": "code",
      "source": [
        "#Q19 A manufacturer produces two different versions of a product and wants to compare their quality scores.\n",
        "# Create a Python function to analyze quality assessment data, calculate the t-statistic, and decide\n",
        "# whether there's a significant difference in quality between the two versions.\n",
        "\n",
        "# H0 : 𝜇v1 = 𝜇v2\n",
        "# H1 : 𝜇v1 ≠ 𝜇v2 (two tail test)\n",
        "\n",
        "from scipy import stats\n",
        "\n",
        "version1_scores = [85, 88, 82, 89, 87, 84, 90, 88, 85, 86, 91, 83, 87, 84, 89, 86, 84, 88, 85, 86, 89, 90, 87, 88, 85]\n",
        "version2_scores = [80, 78, 83, 81, 79, 82, 76, 80, 78, 81, 77, 82, 80, 79, 82, 79, 80, 81, 79, 82, 79, 78, 80, 81, 82]\n",
        "\n",
        "\n",
        "# Perform independent t-test\n",
        "t_statistic, p_value = stats.ttest_ind(version1_scores, version2_scores)\n",
        "\n",
        "# Print results\n",
        "print(\"t-statistic:\", t_statistic)\n",
        "print(\"p-value:\", p_value/2) # two tail test\n",
        "\n",
        "# Interpret the results\n",
        "alpha = 0.05\n",
        "\n",
        "if p_value/2 < alpha:\n",
        "    print(\"Reject the null hypothesis. There is sufficient evidence to suggest that there is a significant difference in quality between the two versions.\")\n",
        "else:\n",
        "    print(\"Fail to reject the null hypothesis. There is not sufficient evidence to suggest that there is significant difference in quality between the two versions..\")\n",
        "\n",
        "\n",
        "\n"
      ],
      "metadata": {
        "colab": {
          "base_uri": "https://localhost:8080/"
        },
        "id": "3ICAm5pdwldo",
        "outputId": "d81ee4f4-1ec0-49f7-d388-441cdbe813ea"
      },
      "execution_count": 55,
      "outputs": [
        {
          "output_type": "stream",
          "name": "stdout",
          "text": [
            "t-statistic: 11.325830417646698\n",
            "p-value: 1.8412125351436982e-15\n",
            "Reject the null hypothesis. There is sufficient evidence to suggest that there is a significant difference in quality between the two versions.\n"
          ]
        }
      ]
    },
    {
      "cell_type": "code",
      "source": [
        "#Q 20. A restaurant chain collects customer satisfaction scores for two different branches. Write a program to\n",
        "# analyze the scores, calculate the t-statistic, and determine if there's a statistically significant difference in\n",
        "# customer satisfaction between the branches.\n",
        "\n",
        "# H0 : 𝜇branch_a = 𝜇branch_b\n",
        "# H1 : 𝜇branch_a ≠ 𝜇branch_b (two tail test)\n",
        "\n",
        "from scipy import stats\n",
        "\n",
        "branch_a_scores = [4, 5, 3, 4, 5, 4, 5, 3, 4, 4, 5, 4, 4, 3, 4, 5, 5, 4, 3, 4, 5, 4, 3, 5, 4, 4, 5, 3, 4, 5, 4]\n",
        "branch_b_scores = [3, 4, 2, 3, 4, 3, 4, 2, 3, 3, 4, 3, 3, 2, 3, 4, 4, 3, 2, 3, 4, 3, 2, 4, 3, 3, 4, 2, 3, 4, 3]\n",
        "\n",
        "# Perform independent t-test\n",
        "t_statistic, p_value = stats.ttest_ind(branch_a_scores, branch_b_scores)\n",
        "\n",
        "# Print results\n",
        "print(\"t-statistic:\", t_statistic)\n",
        "print(\"p-value:\", p_value/2) # two tail test\n",
        "\n",
        "# Interpret the results\n",
        "alpha = 0.05\n",
        "\n",
        "if p_value < alpha:\n",
        "    print(\"Reject the null hypothesis. There is a statistically significant difference in customer satisfaction between the branches.\")\n",
        "else:\n",
        "    print(\"Fail to reject the null hypothesis. There is no statistically significant difference in customer satisfaction between the branches.\")"
      ],
      "metadata": {
        "colab": {
          "base_uri": "https://localhost:8080/"
        },
        "id": "dup6qTVU-Xr0",
        "outputId": "dddfdc53-17b6-4cef-c955-d4a8e04c240e"
      },
      "execution_count": 57,
      "outputs": [
        {
          "output_type": "stream",
          "name": "stdout",
          "text": [
            "t-statistic: 5.480077554195743\n",
            "p-value: 4.4476452549728274e-07\n",
            "Reject the null hypothesis. There is sufficient evidence to suggest that there is a significant difference in customer satisfaction between the branches.\n"
          ]
        }
      ]
    },
    {
      "cell_type": "code",
      "source": [
        "\n",
        "\n",
        "import numpy as np\n",
        "\n",
        "np.random.seed(0)\n",
        "age_groups = np.random.choice(['18-30' , '31-50' , '51+'], size=30)\n",
        "voter_preferences = np.random.choice(['Candidate A', 'Candidate B'], size=30)\n",
        "\n"
      ],
      "metadata": {
        "id": "Dpo7vvS1_Mpl"
      },
      "execution_count": 64,
      "outputs": []
    },
    {
      "cell_type": "code",
      "source": [
        "#Q 21 A political analyst wants to determine\n",
        "# if there is a significant association between age groups and voter preferences (Candidate A or Candidate B).\n",
        "# They collect data from a sample of 500 voters and classify them into different age groups and candidate preferences.\n",
        "# Perform a Chi-Square test to determine if there is a significant association between age groups and voter preferences.\n",
        "\n",
        "# Null Hypothesis (𝐻0):There is no significant association between age groups and voter preferences.\n",
        "# Alternative Hypothesis (𝐻1):There is a significant association between age groups and voter preferences.\n",
        "\n",
        "import numpy as np\n",
        "import pandas as pd\n",
        "from scipy import stats\n",
        "\n",
        "np.random.seed(0)\n",
        "\n",
        "# Generate data for 500 voters\n",
        "age_groups = np.random.choice(['18-30', '31-50', '51+'], size=500)\n",
        "voter_preferences = np.random.choice(['Candidate A', 'Candidate B'], size=500)\n",
        "\n",
        "# Create a contingency table\n",
        "contingency_table = pd.crosstab(age_groups, voter_preferences)\n",
        "\n",
        "# Perform Chi-Square test\n",
        "chi2_stat, p_value, dof, expected = stats.chi2_contingency(contingency_table)\n",
        "\n",
        "print(\"Chi-Square Statistic:\", chi2_stat)\n",
        "print(\"P-Value:\", p_value)\n",
        "# print(contingency_table)\n",
        "\n",
        "alpha = 0.05\n",
        "if p_value < alpha:\n",
        "    print(\"Reject the null hypothesis\")\n",
        "else:\n",
        "    print(\"Fail to reject the null hypothesis.\")\n"
      ],
      "metadata": {
        "colab": {
          "base_uri": "https://localhost:8080/"
        },
        "id": "_PX-4c4ESEFA",
        "outputId": "824bf006-43a9-4dde-e460-0ab382d2d500"
      },
      "execution_count": 72,
      "outputs": [
        {
          "output_type": "stream",
          "name": "stdout",
          "text": [
            "Chi-Square Statistic: 0.8779923945254768\n",
            "P-Value: 0.6446832311860852\n",
            "Fail to reject the null hypothesis. There is no significant association between age groups and voter preferences.\n"
          ]
        }
      ]
    },
    {
      "cell_type": "code",
      "source": [
        "#Q22. A company conducted a customer satisfaction survey to determine if there is a significant relationship\n",
        "# between product satisfaction levels (Satisfied, Neutral, Dissatisfied)  and the region where customers are located (East, West, North, South).\n",
        "# The survey data is summarized in a contingency table.\n",
        "# Conduct a ChiSquare test to determine if there is a significant relationship between product satisfaction levels and customer regions.\n",
        "\n",
        "# Null Hypothesis (H0): There is no significant relationship between product satisfaction levels and customer regions.\n",
        "# Alternative Hypothesis (H1): There is a significant relationship between product satisfaction levels and customer regions.\n",
        "\n",
        "import numpy as np\n",
        "from scipy import stats\n",
        "\n",
        "#Sample data: Product satisfaction levels (rows) vs. Customer regions (columns)\n",
        "data = np.array([[50, 30, 40, 20], [30, 40, 30, 50], [20, 30, 40, 30]])\n",
        "# print(data)\n",
        "\n",
        "chi2_stat, p_value, dof, expected = stats.chi2_contingency(data)\n",
        "print(\"Chi-Square Statistic:\", chi2_stat)\n",
        "print(\"P-Value:\", p_value)\n",
        "\n",
        "\n",
        "alpha = 0.05\n",
        "if p_value < alpha:\n",
        "    print(\"Reject the null hypothesis.\")\n",
        "else:\n",
        "    print(\"Fail to reject the null hypothesis\")"
      ],
      "metadata": {
        "colab": {
          "base_uri": "https://localhost:8080/"
        },
        "id": "Oo9uQ4GYcasm",
        "outputId": "f6d1ed9f-a3bf-4461-8d68-7e04c09629d0"
      },
      "execution_count": 73,
      "outputs": [
        {
          "output_type": "stream",
          "name": "stdout",
          "text": [
            "[[50 30 40 20]\n",
            " [30 40 30 50]\n",
            " [20 30 40 30]]\n",
            "Chi-Square Statistic: 27.777056277056275\n",
            "P-Value: 0.00010349448486004387\n",
            "Reject the null hypothesis. There is a significant relationship between product satisfaction levels and customer regions.\n"
          ]
        }
      ]
    },
    {
      "cell_type": "code",
      "source": [
        "# Q23. A company implemented an employee training program to improve job performance (Effective, Neutral,Ineffective).\n",
        "# After the training, they collected data from a sample of employees and classified them based on their job performance before and after the training.\n",
        "# Perform a Chi-Square test to determine if there is a significant difference between job performance levels before and after the training.\n",
        "\n",
        "# Null Hypothesis (H0): There is no difference between job performance levels before and after the training\n",
        "# Alternative Hypothesis (H1): There is a difference between job performance levels before and after the training\n",
        "\n",
        "\n",
        "# Sample data: Job performance levels before (rows) and after (columns) training\n",
        "\n",
        "import numpy as np\n",
        "from scipy import stats\n",
        "\n",
        "data = np.array([[50, 30, 20], [30, 40, 30], [20, 30, 40]])\n",
        "\n",
        "chi2_stat, p_value, dof, expected = stats.chi2_contingency(data)\n",
        "print(\"Chi-Square Statistic:\", chi2_stat)\n",
        "print(\"P-Value:\", p_value)\n",
        "\n",
        "\n",
        "alpha = 0.05\n",
        "if p_value < alpha:\n",
        "    print(\"Reject the null hypothesis.\")\n",
        "else:\n",
        "    print(\"Fail to reject the null hypothesis\")"
      ],
      "metadata": {
        "colab": {
          "base_uri": "https://localhost:8080/"
        },
        "id": "87punkK1hJql",
        "outputId": "96fc326a-56b8-4e24-cd80-61706985315c"
      },
      "execution_count": 75,
      "outputs": [
        {
          "output_type": "stream",
          "name": "stdout",
          "text": [
            "Chi-Square Statistic: 22.161728395061726\n",
            "P-Value: 0.00018609719479882557\n",
            "Reject the null hypothesis.\n"
          ]
        }
      ]
    },
    {
      "cell_type": "code",
      "source": [
        " # Q 24. A company produces three different versions of a product:\n",
        " # Standard, Premium, and Deluxe.\n",
        " # The company wants to determine if there is a significant difference in customer satisfaction scores among the three product versions.\n",
        " # They conducted a survey and collected customer satisfaction scores for each version from a random sample of customers.\n",
        " # Perform an ANOVA test to determine if there is a significant difference in customer satisfaction scores.\n",
        "\n",
        "# Null Hypothesis (𝐻0):There is no significant difference in customer satisfaction scores among the three product versions.\n",
        "# Mathematically, this can be expressed as:𝐻0:𝜇1=𝜇2=𝜇3\n",
        "# where 𝜇1, 𝜇2,and 𝜇3  are the population means of customer satisfaction scores for the Standard, Premium, and Deluxe versions, respectively.\n",
        "\n",
        "# Alternative Hypothesis (𝐻1):There is a significant difference in customer satisfaction scores among the three product versions.\n",
        "# Mathematically, this can be expressed as:𝐻1:At least one population mean is different\n",
        "\n",
        "import numpy as np\n",
        "from scipy import stats\n",
        "\n",
        "# Sample data: Customer satisfaction scores for each product version\n",
        "standard_scores = [80, 85, 90, 78, 88, 82, 92, 78, 85, 87]\n",
        "premium_scores = [90, 92, 88, 92, 95, 91, 96, 93, 89, 93]\n",
        "deluxe_scores = [95, 98, 92, 97, 96, 94, 98, 97, 92, 99]\n",
        "\n",
        "# Perform ANOVA test\n",
        "f_statistic, p_value = stats.f_oneway(standard_scores, premium_scores, deluxe_scores)\n",
        "\n",
        "print(\"F-Statistic:\", f_statistic)\n",
        "print(\"P-Value:\", p_value)\n",
        "\n",
        "alpha = 0.05\n",
        "if p_value < alpha:\n",
        "    print(\"Reject the null hypothesis.\")\n",
        "else:\n",
        "    print(\"Fail to reject the null hypothesis.\")\n",
        "\n",
        "\n"
      ],
      "metadata": {
        "colab": {
          "base_uri": "https://localhost:8080/"
        },
        "id": "pv1av9__k0lH",
        "outputId": "f1141ad2-2a40-4685-ef1a-dc898318f020"
      },
      "execution_count": 77,
      "outputs": [
        {
          "output_type": "stream",
          "name": "stdout",
          "text": [
            "F-Statistic: 27.03556231003039\n",
            "P-Value: 3.5786328857349003e-07\n",
            "Reject the null hypothesis.\n"
          ]
        }
      ]
    },
    {
      "cell_type": "code",
      "source": [],
      "metadata": {
        "id": "HywLh6KHn6jd"
      },
      "execution_count": null,
      "outputs": []
    }
  ]
}